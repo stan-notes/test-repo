{
 "cells": [
  {
   "cell_type": "markdown",
   "metadata": {},
   "source": [
    "<center>\n",
    "    <img src=\"https://cf-courses-data.s3.us.cloud-object-storage.appdomain.cloud/IBMDeveloperSkillsNetwork-DS0105EN-SkillsNetwork/labs/Module2/images/SN_web_lightmode.png\" width=\"300\" alt=\"cognitiveclass.ai logo\"  />\n",
    "</center>\n"
   ]
  },
  {
   "cell_type": "markdown",
   "metadata": {},
   "source": [
    "#### Add your code below following the instructions given in the course\n"
   ]
  },
  {
   "cell_type": "markdown",
   "metadata": {},
   "source": [
    "# My Jupyter Notebook on IBM Watson Studio"
   ]
  },
  {
   "cell_type": "markdown",
   "metadata": {},
   "source": [
    "**Stanislav Schlegel**  \n",
    "Data Analyst"
   ]
  },
  {
   "cell_type": "markdown",
   "metadata": {},
   "source": [
    "*I am interested in data science because I love telling stories with data and using data to help a company improve its product, services, or experiences. This can help a business grow or get more clients.*"
   ]
  },
  {
   "cell_type": "raw",
   "metadata": {},
   "source": [
    "### Bring Pandas and Numpy libraries to Python"
   ]
  },
  {
   "cell_type": "code",
   "execution_count": 5,
   "metadata": {},
   "outputs": [],
   "source": [
    "import pandas as ps\n",
    "import numpy as np"
   ]
  },
  {
   "cell_type": "markdown",
   "metadata": {},
   "source": [
    "**(1) Bullet list**   \n",
    "* first item\n",
    "* second item\n",
    "* third item  \n",
    "\n",
    "**(2) Numbered list**\n",
    "1. Item 1\n",
    "2. Item 2\n",
    "3. Item 3  \n",
    "\n",
    "**(3) Table**\n",
    "| Id | Label    | Label2 |\n",
    "|--- |----------| ------|\n",
    "| 01 | Cell01 |\\$1600 |\n",
    "| 02 | Cell02   |  \\$12 |\n",
    "| 03 | Cell03  | \\$999 |  \n",
    "\n",
    "**(4) Blockquote**\n",
    "> This is a blockquote.  \n",
    "> This is another blockquote.\n",
    "\n",
    "**(5) horizontal rule**\n",
    "---"
   ]
  }
 ],
 "metadata": {
  "kernelspec": {
   "display_name": "Python",
   "language": "python",
   "name": "conda-env-python-py"
  },
  "language_info": {
   "codemirror_mode": {
    "name": "ipython",
    "version": 3
   },
   "file_extension": ".py",
   "mimetype": "text/x-python",
   "name": "python",
   "nbconvert_exporter": "python",
   "pygments_lexer": "ipython3",
   "version": "3.7.12"
  }
 },
 "nbformat": 4,
 "nbformat_minor": 4
}
